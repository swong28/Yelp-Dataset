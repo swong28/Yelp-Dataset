{
 "cells": [
  {
   "cell_type": "code",
   "execution_count": 1,
   "metadata": {
    "collapsed": true
   },
   "outputs": [],
   "source": [
    "import pandas as pd\n",
    "import numpy as np\n",
    "import matplotlib.pyplot as plt\n",
    "import seaborn as sns\n",
    "import json\n",
    "from sklearn.externals import joblib\n",
    "import warnings\n",
    "warnings.filterwarnings('ignore')"
   ]
  },
  {
   "cell_type": "code",
   "execution_count": 2,
   "metadata": {},
   "outputs": [
    {
     "data": {
      "text/plain": [
       "(593997, 73)"
      ]
     },
     "execution_count": 2,
     "metadata": {},
     "output_type": "execute_result"
    }
   ],
   "source": [
    "business_review = joblib.load('business_review')\n",
    "# only business with > 20 review count\n",
    "MIN_REVIEW_COUNT = 20\n",
    "reduced_br = business_review[business_review.review_count > 20]\n",
    "\n",
    "\n",
    "# only taking users that made more than 10 reviews\n",
    "users = business_review.groupby('user_id').business_id.count()\n",
    "user_ids = users[users > 10].index\n",
    "reduced_br = reduced_br[reduced_br.user_id.apply(lambda x: x in user_ids)]\n",
    "\n",
    "reduced_br.shape"
   ]
  },
  {
   "cell_type": "code",
   "execution_count": 3,
   "metadata": {
    "collapsed": true
   },
   "outputs": [],
   "source": [
    "from sklearn.preprocessing import LabelEncoder\n",
    "# Label Encode user and business\n",
    "labelencoder = LabelEncoder()\n",
    "reduced_br.business_id = labelencoder.fit_transform(reduced_br.business_id)\n",
    "\n",
    "reduced_br.user_id = labelencoder.fit_transform(reduced_br.user_id)"
   ]
  },
  {
   "cell_type": "code",
   "execution_count": 4,
   "metadata": {},
   "outputs": [],
   "source": [
    "from sklearn.model_selection import train_test_split\n",
    "r_cols = ['business_id','stars_x', 'user_id']\n",
    "df = reduced_br[r_cols]\n",
    "\n",
    "X_train,y_train,X_test,y_test = train_test_split(df,df['stars_x'])"
   ]
  },
  {
   "cell_type": "code",
   "execution_count": 5,
   "metadata": {},
   "outputs": [
    {
     "data": {
      "text/html": [
       "<pre>Preparing data set.</pre>"
      ],
      "text/plain": [
       "Preparing data set."
      ]
     },
     "metadata": {},
     "output_type": "display_data"
    },
    {
     "data": {
      "text/html": [
       "<pre>    Data has 445497 observations with 20182 users and 28819 items.</pre>"
      ],
      "text/plain": [
       "    Data has 445497 observations with 20182 users and 28819 items."
      ]
     },
     "metadata": {},
     "output_type": "display_data"
    },
    {
     "data": {
      "text/html": [
       "<pre>    Data prepared in: 0.391553s</pre>"
      ],
      "text/plain": [
       "    Data prepared in: 0.391553s"
      ]
     },
     "metadata": {},
     "output_type": "display_data"
    },
    {
     "data": {
      "text/html": [
       "<pre>445497 observations to process; with 28819 unique items.</pre>"
      ],
      "text/plain": [
       "445497 observations to process; with 28819 unique items."
      ]
     },
     "metadata": {},
     "output_type": "display_data"
    }
   ],
   "source": [
    "import turicreate\n",
    "\n",
    "train_data = turicreate.SFrame(X_train)\n",
    "test_data = turicreate.SFrame(X_test)\n",
    "pop_model = turicreate.popularity_recommender.create(\n",
    "    train_data,                                             \n",
    "    user_id='user_id',                                                   \n",
    "    item_id='business_id',                                                 \n",
    "    target='stars_x')"
   ]
  },
  {
   "cell_type": "code",
   "execution_count": 6,
   "metadata": {},
   "outputs": [
    {
     "data": {
      "text/html": [
       "<pre>recommendations finished on 1000/20182 queries. users per second: 8558.13</pre>"
      ],
      "text/plain": [
       "recommendations finished on 1000/20182 queries. users per second: 8558.13"
      ]
     },
     "metadata": {},
     "output_type": "display_data"
    },
    {
     "data": {
      "text/html": [
       "<pre>recommendations finished on 2000/20182 queries. users per second: 8439.17</pre>"
      ],
      "text/plain": [
       "recommendations finished on 2000/20182 queries. users per second: 8439.17"
      ]
     },
     "metadata": {},
     "output_type": "display_data"
    },
    {
     "data": {
      "text/html": [
       "<pre>recommendations finished on 3000/20182 queries. users per second: 8548.71</pre>"
      ],
      "text/plain": [
       "recommendations finished on 3000/20182 queries. users per second: 8548.71"
      ]
     },
     "metadata": {},
     "output_type": "display_data"
    },
    {
     "data": {
      "text/html": [
       "<pre>recommendations finished on 4000/20182 queries. users per second: 8488.05</pre>"
      ],
      "text/plain": [
       "recommendations finished on 4000/20182 queries. users per second: 8488.05"
      ]
     },
     "metadata": {},
     "output_type": "display_data"
    },
    {
     "data": {
      "text/html": [
       "<pre>recommendations finished on 5000/20182 queries. users per second: 8218.34</pre>"
      ],
      "text/plain": [
       "recommendations finished on 5000/20182 queries. users per second: 8218.34"
      ]
     },
     "metadata": {},
     "output_type": "display_data"
    },
    {
     "data": {
      "text/html": [
       "<pre>recommendations finished on 6000/20182 queries. users per second: 7365.23</pre>"
      ],
      "text/plain": [
       "recommendations finished on 6000/20182 queries. users per second: 7365.23"
      ]
     },
     "metadata": {},
     "output_type": "display_data"
    },
    {
     "data": {
      "text/html": [
       "<pre>recommendations finished on 7000/20182 queries. users per second: 7330.2</pre>"
      ],
      "text/plain": [
       "recommendations finished on 7000/20182 queries. users per second: 7330.2"
      ]
     },
     "metadata": {},
     "output_type": "display_data"
    },
    {
     "data": {
      "text/html": [
       "<pre>recommendations finished on 8000/20182 queries. users per second: 7371.04</pre>"
      ],
      "text/plain": [
       "recommendations finished on 8000/20182 queries. users per second: 7371.04"
      ]
     },
     "metadata": {},
     "output_type": "display_data"
    },
    {
     "data": {
      "text/html": [
       "<pre>recommendations finished on 9000/20182 queries. users per second: 7490.11</pre>"
      ],
      "text/plain": [
       "recommendations finished on 9000/20182 queries. users per second: 7490.11"
      ]
     },
     "metadata": {},
     "output_type": "display_data"
    },
    {
     "data": {
      "text/html": [
       "<pre>recommendations finished on 10000/20182 queries. users per second: 7494.5</pre>"
      ],
      "text/plain": [
       "recommendations finished on 10000/20182 queries. users per second: 7494.5"
      ]
     },
     "metadata": {},
     "output_type": "display_data"
    },
    {
     "data": {
      "text/html": [
       "<pre>recommendations finished on 11000/20182 queries. users per second: 7482.27</pre>"
      ],
      "text/plain": [
       "recommendations finished on 11000/20182 queries. users per second: 7482.27"
      ]
     },
     "metadata": {},
     "output_type": "display_data"
    },
    {
     "data": {
      "text/html": [
       "<pre>recommendations finished on 12000/20182 queries. users per second: 7498.49</pre>"
      ],
      "text/plain": [
       "recommendations finished on 12000/20182 queries. users per second: 7498.49"
      ]
     },
     "metadata": {},
     "output_type": "display_data"
    },
    {
     "data": {
      "text/html": [
       "<pre>recommendations finished on 13000/20182 queries. users per second: 7534.71</pre>"
      ],
      "text/plain": [
       "recommendations finished on 13000/20182 queries. users per second: 7534.71"
      ]
     },
     "metadata": {},
     "output_type": "display_data"
    },
    {
     "data": {
      "text/html": [
       "<pre>recommendations finished on 14000/20182 queries. users per second: 7565.87</pre>"
      ],
      "text/plain": [
       "recommendations finished on 14000/20182 queries. users per second: 7565.87"
      ]
     },
     "metadata": {},
     "output_type": "display_data"
    },
    {
     "data": {
      "text/html": [
       "<pre>recommendations finished on 15000/20182 queries. users per second: 7541.42</pre>"
      ],
      "text/plain": [
       "recommendations finished on 15000/20182 queries. users per second: 7541.42"
      ]
     },
     "metadata": {},
     "output_type": "display_data"
    },
    {
     "data": {
      "text/html": [
       "<pre>recommendations finished on 16000/20182 queries. users per second: 7485.59</pre>"
      ],
      "text/plain": [
       "recommendations finished on 16000/20182 queries. users per second: 7485.59"
      ]
     },
     "metadata": {},
     "output_type": "display_data"
    },
    {
     "data": {
      "text/html": [
       "<pre>recommendations finished on 17000/20182 queries. users per second: 7429.24</pre>"
      ],
      "text/plain": [
       "recommendations finished on 17000/20182 queries. users per second: 7429.24"
      ]
     },
     "metadata": {},
     "output_type": "display_data"
    },
    {
     "data": {
      "text/html": [
       "<pre>recommendations finished on 18000/20182 queries. users per second: 7486.1</pre>"
      ],
      "text/plain": [
       "recommendations finished on 18000/20182 queries. users per second: 7486.1"
      ]
     },
     "metadata": {},
     "output_type": "display_data"
    },
    {
     "data": {
      "text/html": [
       "<pre>recommendations finished on 19000/20182 queries. users per second: 7522.21</pre>"
      ],
      "text/plain": [
       "recommendations finished on 19000/20182 queries. users per second: 7522.21"
      ]
     },
     "metadata": {},
     "output_type": "display_data"
    },
    {
     "data": {
      "text/html": [
       "<pre>recommendations finished on 20000/20182 queries. users per second: 7534.69</pre>"
      ],
      "text/plain": [
       "recommendations finished on 20000/20182 queries. users per second: 7534.69"
      ]
     },
     "metadata": {},
     "output_type": "display_data"
    },
    {
     "name": "stdout",
     "output_type": "stream",
     "text": [
      "+---------+-------------+-------+------+\n",
      "| user_id | business_id | score | rank |\n",
      "+---------+-------------+-------+------+\n",
      "|  16598  |    15146    |  5.0  |  1   |\n",
      "|  16598  |     1560    |  5.0  |  2   |\n",
      "|  16598  |    10992    |  5.0  |  3   |\n",
      "|  16598  |     1772    |  5.0  |  4   |\n",
      "|  16598  |     6672    |  5.0  |  5   |\n",
      "|  11047  |    15146    |  5.0  |  1   |\n",
      "|  11047  |     1560    |  5.0  |  2   |\n",
      "|  11047  |    10992    |  5.0  |  3   |\n",
      "|  11047  |     1772    |  5.0  |  4   |\n",
      "|  11047  |     6672    |  5.0  |  5   |\n",
      "|   9482  |    15146    |  5.0  |  1   |\n",
      "|   9482  |     1560    |  5.0  |  2   |\n",
      "|   9482  |    10992    |  5.0  |  3   |\n",
      "|   9482  |     1772    |  5.0  |  4   |\n",
      "|   9482  |     6672    |  5.0  |  5   |\n",
      "|   7893  |    15146    |  5.0  |  1   |\n",
      "|   7893  |     1560    |  5.0  |  2   |\n",
      "|   7893  |    10992    |  5.0  |  3   |\n",
      "|   7893  |     1772    |  5.0  |  4   |\n",
      "|   7893  |     6672    |  5.0  |  5   |\n",
      "|   5013  |    15146    |  5.0  |  1   |\n",
      "|   5013  |     1560    |  5.0  |  2   |\n",
      "|   5013  |    10992    |  5.0  |  3   |\n",
      "|   5013  |     1772    |  5.0  |  4   |\n",
      "|   5013  |     6672    |  5.0  |  5   |\n",
      "+---------+-------------+-------+------+\n",
      "[100910 rows x 4 columns]\n",
      "\n"
     ]
    }
   ],
   "source": [
    "pop_model_rec = pop_model.recommend(k=5)\n",
    "pop_model_rec.print_rows(num_rows=25)"
   ]
  },
  {
   "cell_type": "code",
   "execution_count": null,
   "metadata": {
    "collapsed": true
   },
   "outputs": [],
   "source": []
  }
 ],
 "metadata": {
  "kernelspec": {
   "display_name": "Python 3",
   "language": "python",
   "name": "python3"
  },
  "language_info": {
   "codemirror_mode": {
    "name": "ipython",
    "version": 3
   },
   "file_extension": ".py",
   "mimetype": "text/x-python",
   "name": "python",
   "nbconvert_exporter": "python",
   "pygments_lexer": "ipython3",
   "version": "3.6.3"
  }
 },
 "nbformat": 4,
 "nbformat_minor": 2
}
